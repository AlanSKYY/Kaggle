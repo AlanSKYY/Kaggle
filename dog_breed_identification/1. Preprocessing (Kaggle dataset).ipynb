{
 "cells": [
  {
   "cell_type": "markdown",
   "metadata": {},
   "source": [
    "# 1. Preprocessing"
   ]
  },
  {
   "cell_type": "markdown",
   "metadata": {},
   "source": [
    "Before running, please download \"train.zip\", \"test.zip\", \"sample_submission.zip\" and \"labels.csv.zip\" from [Kaggle](https://www.kaggle.com/c/dog-breed-identification/data). Create a folder named \"data\" in the directory storing this Python notebook and unzip the content of the four files inside \"data\" folder.\n",
    "\n",
    "Please note that the training dataset from Kaggle is not used in the later steps. To enhance learning performance, Stanford dogs dataset instead of the training set provided by Kaggle is used."
   ]
  },
  {
   "cell_type": "markdown",
   "metadata": {},
   "source": [
    "## Loading packages"
   ]
  },
  {
   "cell_type": "code",
   "execution_count": 1,
   "metadata": {},
   "outputs": [],
   "source": [
    "import shutil\n",
    "import os\n",
    "import pandas as pd"
   ]
  },
  {
   "cell_type": "markdown",
   "metadata": {},
   "source": [
    "## Setting parameters"
   ]
  },
  {
   "cell_type": "code",
   "execution_count": 2,
   "metadata": {},
   "outputs": [],
   "source": [
    "data_dir       = \"data\" \n",
    "old_train_path = 'train'\n",
    "new_train_path = 'for_train'\n",
    "old_test_path  = 'test'\n",
    "new_test_path  = 'for_test'\n",
    "fakeBreed      = '0'"
   ]
  },
  {
   "cell_type": "markdown",
   "metadata": {},
   "source": [
    "## Code"
   ]
  },
  {
   "cell_type": "code",
   "execution_count": 3,
   "metadata": {
    "scrolled": true
   },
   "outputs": [],
   "source": [
    "df = pd.read_csv(os.path.join('.', data_dir, 'labels.csv'))\n",
    "old_train_path = os.path.join('.', data_dir, old_train_path)\n",
    "new_train_path = os.path.join('.', data_dir, new_train_path)\n",
    "if os.path.exists(new_train_path):\n",
    "    shutil.rmtree(new_train_path)\n",
    "os.makedirs(new_train_path)\n",
    "\n",
    "for i, (fname, breed) in df.iterrows():\n",
    "    new_train_path2 = os.path.join('%s', '%s') % (new_train_path, breed)\n",
    "    if not os.path.exists(new_train_path2):\n",
    "        os.makedirs(new_train_path2)\n",
    "    shutil.copy(os.path.join(old_train_path,  '%s.jpg') % fname,\n",
    "                os.path.join(new_train_path2, '%s.jpg') % fname)"
   ]
  },
  {
   "cell_type": "code",
   "execution_count": 4,
   "metadata": {},
   "outputs": [],
   "source": [
    "df = pd.read_csv(os.path.join('.', data_dir, 'sample_submission.csv'))\n",
    "old_test_path = os.path.join('.', data_dir, old_test_path)\n",
    "new_test_path = os.path.join('.', data_dir, new_test_path)\n",
    "if os.path.exists(new_test_path):\n",
    "    shutil.rmtree(new_test_path)\n",
    "os.makedirs(new_test_path)\n",
    "\n",
    "if os.path.exists(os.path.join(new_test_path, fakeBreed)):\n",
    "    shutil.rmtree(os.path.join(new_test_path, fakeBreed))\n",
    "os.makedirs(os.path.join(new_test_path, fakeBreed))\n",
    "\n",
    "for test_file in os.listdir(old_test_path):\n",
    "    shutil.copy(os.path.join(old_test_path, test_file),\n",
    "                os.path.join(new_test_path, fakeBreed))"
   ]
  }
 ],
 "metadata": {
  "kernelspec": {
   "display_name": "Python 3",
   "language": "python",
   "name": "python3"
  },
  "language_info": {
   "codemirror_mode": {
    "name": "ipython",
    "version": 3
   },
   "file_extension": ".py",
   "mimetype": "text/x-python",
   "name": "python",
   "nbconvert_exporter": "python",
   "pygments_lexer": "ipython3",
   "version": "3.5.4"
  }
 },
 "nbformat": 4,
 "nbformat_minor": 2
}

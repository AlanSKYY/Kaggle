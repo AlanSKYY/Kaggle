{
 "cells": [
  {
   "cell_type": "markdown",
   "metadata": {},
   "source": [
    "# 4. Feature Extraction (Kaggle testing dataset)"
   ]
  },
  {
   "cell_type": "markdown",
   "metadata": {},
   "source": [
    "## Loading packages"
   ]
  },
  {
   "cell_type": "code",
   "execution_count": 1,
   "metadata": {},
   "outputs": [],
   "source": [
    "from mxnet import autograd\n",
    "from mxnet import gluon\n",
    "import mxnet as mx\n",
    "from mxnet import image\n",
    "from mxnet import init\n",
    "from mxnet import nd\n",
    "from mxnet.gluon.data import vision\n",
    "\n",
    "import math\n",
    "import os\n",
    "import shutil\n",
    "import numpy as np\n",
    "from collections import Counter\n",
    "\n",
    "import numpy as np\n",
    "# np.random.randint(256,480,1)[0]\n",
    "\n",
    "# Change the following to mx.cpu() if you don't have GPU in your computer.\n",
    "# To use different GPU, you can try \"ctx = mx.gpu(1)\", where 1 is the first GPU.\n",
    "ctx = mx.gpu()"
   ]
  },
  {
   "cell_type": "markdown",
   "metadata": {},
   "source": [
    "## Setting parameters"
   ]
  },
  {
   "cell_type": "code",
   "execution_count": 2,
   "metadata": {},
   "outputs": [],
   "source": [
    "data_dir   = 'data'\n",
    "label_file = 'labels.csv'\n",
    "# test_dir   = 'test'\n",
    "input_dir  = 'for_test'\n",
    "batch_size = 128"
   ]
  },
  {
   "cell_type": "code",
   "execution_count": 3,
   "metadata": {},
   "outputs": [],
   "source": [
    "def transform_test(data, label):\n",
    "    im1 = image.imresize(data.astype('float32') / 255, 288, 288)\n",
    "    auglist1 = image.CreateAugmenter(data_shape = (3, 224, 224),\n",
    "                                     resize     = 0,\n",
    "                                     mean       = np.array([0.485,0.456,0.406]), \n",
    "                                     std        = np.array([0.229,0.224,0.225]))\n",
    "    im2 = image.imresize(data.astype('float32') / 255, 363, 363)\n",
    "    auglist2 = image.CreateAugmenter(data_shape = (3, 299, 299),\n",
    "                                     resize     = 0,\n",
    "                                     mean       = np.array([0.485,0.456,0.406]), \n",
    "                                     std        = np.array([0.229,0.224,0.225]))\n",
    "    for aug in auglist1:\n",
    "        im1 = aug(im1)\n",
    "    im1 = nd.transpose(im1, (2,0,1))\n",
    "    for aug in auglist2:\n",
    "        im2 = aug(im2)\n",
    "    im2 = nd.transpose(im2, (2,0,1))\n",
    "    return (im1,im2, nd.array([label]).asscalar().astype('float32'))\n",
    "\n",
    "\n",
    "def get_features_test(net1, net2, data):\n",
    "    res_features = []\n",
    "    inception_features = []\n",
    "    labels = []\n",
    "    for x1,x2,y in data:\n",
    "        feature1 = net1(x1.as_in_context(ctx))\n",
    "        res_features.append(feature1.asnumpy())\n",
    "        feature2 = net2(x2.as_in_context(ctx))\n",
    "        inception_features.append(feature2.asnumpy())\n",
    "        labels.append(y.asnumpy()) \n",
    "    res_features = np.concatenate(res_features, axis=0)\n",
    "    inception_features = np.concatenate(inception_features, axis=0)\n",
    "    labels = np.concatenate(labels, axis=0)\n",
    "    return res_features, inception_features, labels"
   ]
  },
  {
   "cell_type": "code",
   "execution_count": 4,
   "metadata": {},
   "outputs": [],
   "source": [
    "input_str  = os.path.join('.', data_dir,  input_dir)\n",
    "test_1     = vision.ImageFolderDataset(input_str, flag=1, transform=transform_test)\n",
    "loader     = gluon.data.DataLoader\n",
    "test_data1 = loader(test_1, batch_size, shuffle=False, last_batch='keep')"
   ]
  },
  {
   "cell_type": "code",
   "execution_count": 5,
   "metadata": {},
   "outputs": [],
   "source": [
    "from mxnet.gluon.model_zoo import vision as models\n",
    "res151 = models.resnet152_v1(pretrained=True, ctx=ctx).features\n",
    "with res151.name_scope():\n",
    "    res151.add(gluon.nn.GlobalAvgPool2D())\n",
    "res151.collect_params().reset_ctx(ctx)\n",
    "res151.hybridize()"
   ]
  },
  {
   "cell_type": "code",
   "execution_count": 6,
   "metadata": {
    "scrolled": false
   },
   "outputs": [],
   "source": [
    "from mxnet.gluon.model_zoo import vision as models\n",
    "import mxnet as mx\n",
    "inception = models.inception_v3(pretrained=True, ctx=ctx)\n",
    "inception_net = inception.features\n",
    "inception_net.collect_params().reset_ctx(ctx)\n",
    "inception_net.hybridize()"
   ]
  },
  {
   "cell_type": "code",
   "execution_count": 7,
   "metadata": {},
   "outputs": [
    {
     "name": "stdout",
     "output_type": "stream",
     "text": [
      "CPU times: user 12min 33s, sys: 1min 45s, total: 14min 19s\n",
      "Wall time: 7min 41s\n"
     ]
    }
   ],
   "source": [
    "%%time\n",
    "\n",
    "test_res151, test_inception, _ = get_features_test(res151, inception_net, test_data1)\n",
    "test_res151 = test_res151.reshape(test_res151.shape[:2])\n",
    "test_inception = test_inception.reshape(test_inception.shape[:2])"
   ]
  },
  {
   "cell_type": "code",
   "execution_count": 8,
   "metadata": {},
   "outputs": [],
   "source": [
    "nd.save(os.path.join('.', data_dir, 'features_test_res.nd'), nd.array(test_res151))\n",
    "nd.save(os.path.join('.', data_dir, 'features_test_incep.nd'), nd.array(test_inception))"
   ]
  }
 ],
 "metadata": {
  "kernelspec": {
   "display_name": "Python 3",
   "language": "python",
   "name": "python3"
  },
  "language_info": {
   "codemirror_mode": {
    "name": "ipython",
    "version": 3
   },
   "file_extension": ".py",
   "mimetype": "text/x-python",
   "name": "python",
   "nbconvert_exporter": "python",
   "pygments_lexer": "ipython3",
   "version": "3.5.4"
  }
 },
 "nbformat": 4,
 "nbformat_minor": 2
}
